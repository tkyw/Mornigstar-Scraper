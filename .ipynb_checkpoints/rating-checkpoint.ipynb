{
 "cells": [
  {
   "cell_type": "code",
   "execution_count": 1,
   "metadata": {},
   "outputs": [],
   "source": [
    "import pandas as pd\n",
    "import numpy as np\n",
    "import re\n",
    "import pprint\n",
    "import os "
   ]
  },
  {
   "cell_type": "code",
   "execution_count": 5,
   "metadata": {
    "scrolled": true
   },
   "outputs": [
    {
     "name": "stdout",
     "output_type": "stream",
     "text": [
      "Total Ret 1 Yr (Daily) Base Currency\n",
      "Total Ret Annlzd 2 Yr (Daily) Base Currency\n",
      "Total Ret Annlzd 3 Yr (Daily) Base Currency\n",
      "Total Ret Annlzd 5 Yr (Daily) Base Currency\n",
      "Total Ret Annlzd 10 Yr (Daily) Base Currency\n",
      "Total Ret Annlzd 15 Yr (Daily) Base Currency\n",
      "Annual Capital Return 2023\n",
      "Annual Capital Return 2022\n",
      "Annual Capital Return 2021\n",
      "Annual Capital Return 2020\n",
      "Annual Capital Return 2019\n",
      "Annual Capital Return 2018\n",
      "Annual Capital Return 2017\n",
      "Annual Capital Return 2016\n",
      "Annual Capital Return 2015\n",
      "Annual Capital Return 2014\n",
      "Annual Capital Return 2013\n",
      "Std Dev 1 Yr (Mo-End) Risk Currency\n",
      "Std Dev 3 Yr (Mo-End) Risk Currency\n",
      "Std Dev 5 Yr (Mo-End) Risk Currency\n",
      "Std Dev 10 Yr (Mo-End) Risk Currency\n",
      "Std Dev 15 Yr (Mo-End) Risk Currency\n",
      "Sharpe Ratio 1 Yr (Mo-End) Risk Currency\n",
      "Sharpe Ratio 3 Yr (Mo-End) Risk Currency\n",
      "Sharpe Ratio 5 Yr (Mo-End) Risk Currency\n",
      "Sharpe Ratio 10 Yr (Mo-End) Risk Currency\n",
      "Sharpe Ratio 15 Yr (Mo-End) Risk Currency\n",
      "Sortino Ratio 1 Yr (Mo-End) Risk Currency\n",
      "Sortino Ratio 3 Yr (Mo-End) Risk Currency\n",
      "Sortino Ratio 5 Yr (Mo-End) Risk Currency\n",
      "Sortino Ratio 10 Yr (Mo-End) Risk Currency\n",
      "Sortino Ratio 15 Yr (Mo-End) Risk Currency\n",
      "Alpha 1 Yr (Mo-End) Risk Currency\n",
      "Alpha 3 Yr (Mo-End) Risk Currency\n",
      "Alpha 5 Yr (Mo-End) Risk Currency\n",
      "Alpha 10 Yr (Mo-End) Risk Currency\n",
      "Alpha 15 Yr (Mo-End) Risk Currency\n",
      "Beta 1 Yr (Mo-End) Risk Currency\n",
      "Beta 3 Yr (Mo-End) Risk Currency\n",
      "Beta 5 Yr (Mo-End) Risk Currency\n",
      "Beta 10 Yr (Mo-End) Risk Currency\n",
      "Beta 15 Yr (Mo-End) Risk Currency\n",
      "Treynor Ratio 1 Yr (Mo-End) Risk Currency\n",
      "Treynor Ratio 3 Yr (Mo-End) Risk Currency\n",
      "Treynor Ratio 5 Yr (Mo-End) Risk Currency\n",
      "Treynor Ratio 10 Yr (Mo-End) Risk Currency\n",
      "Treynor Ratio 15 Yr (Mo-End) Risk Currency\n",
      "Tracking Error 1 Yr (Mo-End) Risk Currency\n",
      "Tracking Error 3 Yr (Mo-End) Risk Currency\n",
      "Tracking Error 5 Yr (Mo-End) Risk Currency\n",
      "Tracking Error 10 Yr (Mo-End) Risk Currency\n",
      "Tracking Error 15 Yr (Mo-End) Risk Currency\n",
      "Information Ratio 1 Yr (Mo-End) Risk Currency\n",
      "Information Ratio 3 Yr (Mo-End) Risk Currency\n",
      "Information Ratio 5 Yr (Mo-End) Risk Currency\n",
      "Information Ratio 10 Yr (Mo-End) Risk Currency\n",
      "Information Ratio 15 Yr (Mo-End) Risk Currency\n",
      "Upside Capture Ratio 1 Yr (Mo-End) Risk Currency\n",
      "Upside Capture Ratio 3 Yr (Mo-End) Risk Currency\n",
      "Upside Capture Ratio 5 Yr (Mo-End) Risk Currency\n",
      "Upside Capture Ratio 10 Yr (Mo-End) Risk Currency\n",
      "Upside Capture Ratio 15 Yr (Mo-End) Risk Currency\n",
      "Downside Capture Ratio 1 Yr (Mo-End) Risk Currency\n",
      "Downside Capture Ratio 3 Yr (Mo-End) Risk Currency\n",
      "Downside Capture Ratio 5 Yr (Mo-End) Risk Currency\n",
      "Downside Capture Ratio 10 Yr (Mo-End) Risk Currency\n",
      "Downside Capture Ratio 15 Yr (Mo-End) Risk Currency\n",
      "Batting Average 1 Yr (Mo-End) Risk Currency\n",
      "Batting Average 3 Yr (Mo-End) Risk Currency\n",
      "Batting Average 5 Yr (Mo-End) Risk Currency\n",
      "Batting Average 10 Yr (Mo-End) Risk Currency\n",
      "Batting Average 15 Yr (Mo-End) Risk Currency\n",
      "Management Fee\n",
      "Performance Fee\n",
      "Annual Report Adjusted Expense Ratio\n",
      "Annual Report Adjusted Expense Ratio Year2021\n",
      "Annual Report Adjusted Expense Ratio Year2022\n",
      "Annual Report Adjusted Expense Ratio Year2023\n",
      "Average Drawdown 2021-04-01 to 2024-03-31 Base Currency\n",
      "Max Drawdown 2021-04-01 to 2024-03-31 Base Currency\n",
      "Max Drawdown # of Periods 2021-04-01 to 2024-03-31 Base Currency\n",
      "Max Drawdown Recovery # of Periods 2021-04-01 to 2024-03-31 Base Currency\n",
      "Max Drawdown Peak Date 2021-04-01 to 2024-03-31\n",
      "Portfolio Date\n",
      "Equity Region Developed % (Net)\n",
      "Equity Region Emerging % (Net)\n",
      "Equity Region Not Classified % (Net)\n",
      "Equity Region Developed % (Long)\n",
      "Equity Region Emerging % (Long)\n",
      "Equity Region Not Classified % (Long)\n",
      "Equity Region Developed % (Short)\n",
      "Equity Region Emerging % (Short)\n",
      "Equity Region Not Classified % (Short)\n",
      "Equity Region Developed % (Long Rescaled)\n",
      "Equity Region Emerging % (Long Rescaled)\n",
      "Equity Region Not Classified % (Long Rescaled)\n",
      "Equity Region Dev Status Rescaling Factor (Long)\n",
      "Equity Region Africa/Middle East % (Net)\n",
      "Equity Region Americas % (Net)\n",
      "Equity Region Australasia % (Net)\n",
      "Equity Region Greater Asia % (Net)\n",
      "Equity Region Asia dev % (Net)\n",
      "Equity Region Asia emrg % (Net)\n",
      "Equity Region Greater Europe % (Net)\n",
      "Equity Region Europe dev % (Net)\n",
      "Equity Region Europe emrg % (Net)\n",
      "Equity Region Eurozone % (Net)\n",
      "Equity Region Europe ex-euro % (Net)\n",
      "Equity Region Japan % (Net)\n",
      "Equity Region Latin America % (Net)\n",
      "Equity Region North America % (Net)\n",
      "Equity Region Africa % (Net)\n",
      "Equity Region Middle East % (Net)\n",
      "Equity Region Canada % (Net)\n",
      "Equity Region United Kingdom % (Net)\n",
      "Equity Region United States % (Net)\n",
      "Equity Region Africa/Middle East % (Long)\n",
      "Equity Region Americas % (Long)\n",
      "Equity Region Australasia % (Long)\n",
      "Equity Region Greater Asia % (Long)\n",
      "Equity Region Asia dev % (Long)\n",
      "Equity Region Asia emrg % (Long)\n",
      "Equity Region Greater Europe % (Long)\n",
      "Equity Region Europe dev % (Long)\n",
      "Equity Region Europe emrg % (Long)\n",
      "Equity Region Eurozone % (Long)\n",
      "Equity Region Europe ex-euro % (Long)\n",
      "Equity Region Japan % (Long)\n",
      "Equity Region Latin America % (Long)\n",
      "Equity Region North America % (Long)\n",
      "Equity Region Africa % (Long)\n",
      "Equity Region Middle East % (Long)\n",
      "Equity Region Canada % (Long)\n",
      "Equity Region United Kingdom % (Long)\n",
      "Equity Region United States % (Long)\n",
      "Equity Region Africa/Middle East % (Short)\n",
      "Equity Region Americas % (Short)\n",
      "Equity Region Australasia % (Short)\n",
      "Equity Region Greater Asia % (Short)\n",
      "Equity Region Asia dev % (Short)\n",
      "Equity Region Asia emrg % (Short)\n",
      "Equity Region Greater Europe % (Short)\n",
      "Equity Region Europe dev % (Short)\n",
      "Equity Region Europe emrg % (Short)\n",
      "Equity Region Eurozone % (Short)\n",
      "Equity Region Europe ex-euro % (Short)\n",
      "Equity Region Japan % (Short)\n",
      "Equity Region Latin America % (Short)\n",
      "Equity Region North America % (Short)\n",
      "Equity Region Africa % (Short)\n",
      "Equity Region Middle East % (Short)\n",
      "Equity Region Canada % (Short)\n",
      "Equity Region United Kingdom % (Short)\n",
      "Equity Region United States % (Short)\n",
      "Equity Region Africa/Middle East % (Long Rescaled)\n",
      "Equity Region Americas % (Long Rescaled)\n",
      "Equity Region Australasia % (Long Rescaled)\n",
      "Equity Region Greater Asia % (Long Rescaled)\n",
      "Equity Region Asia dev % (Long Rescaled)\n",
      "Equity Region Asia emrg % (Long Rescaled)\n",
      "Equity Region Greater Europe % (Long Rescaled)\n",
      "Equity Region Europe dev % (Long Rescaled)\n",
      "Equity Region Europe emrg % (Long Rescaled)\n",
      "Equity Region Eurozone % (Long Rescaled)\n",
      "Equity Region Europe ex-euro % (Long Rescaled)\n",
      "Equity Region Japan % (Long Rescaled)\n",
      "Equity Region Latin America % (Long Rescaled)\n",
      "Equity Region North America % (Long Rescaled)\n",
      "Equity Region Africa % (Long Rescaled)\n",
      "Equity Region Middle East % (Long Rescaled)\n",
      "Equity Region Canada % (Long Rescaled)\n",
      "Equity Region United Kingdom % (Long Rescaled)\n",
      "Equity Region United States % (Long Rescaled)\n",
      "Equity Region Rescaling Factor (Long)\n",
      "Portfolio Date.1\n",
      "GICS Energy % (Net)\n",
      "GICS Materials % (Net)\n",
      "GICS Industrials % (Net)\n",
      "GICS Consumer Discretionary % (Net)\n",
      "GICS Consumer Staples % (Net)\n",
      "GICS Healthcare % (Net)\n",
      "GICS Financials % (Net)\n",
      "GICS Information Technology % (Net)\n",
      "GICS Communication Services % (Net)\n",
      "GICS Utilities % (Net)\n",
      "GICS Real Estate % (Net)\n",
      "GICS Energy % (Long)\n",
      "GICS Materials % (Long)\n",
      "GICS Industrials % (Long)\n",
      "GICS Consumer Discretionary % (Long)\n",
      "GICS Consumer Staples % (Long)\n",
      "GICS Healthcare % (Long)\n",
      "GICS Financials % (Long)\n",
      "GICS Information Technology % (Long)\n",
      "GICS Communication Services % (Long)\n",
      "GICS Utilities % (Long)\n",
      "GICS Real Estate % (Long)\n",
      "GICS Energy % (Short)\n",
      "GICS Materials % (Short)\n",
      "GICS Industrials % (Short)\n",
      "GICS Consumer Discretionary % (Short)\n",
      "GICS Consumer Staples % (Short)\n",
      "GICS Healthcare % (Short)\n",
      "GICS Financials % (Short)\n",
      "GICS Information Technology % (Short)\n",
      "GICS Communication Services % (Short)\n",
      "GICS Utilities % (Short)\n",
      "GICS Real Estate % (Short)\n",
      "GICS Energy % (Long Rescaled)\n",
      "GICS Materials % (Long Rescaled)\n",
      "GICS Industrials % (Long Rescaled)\n",
      "GICS Consumer Discretionary % (Long Rescaled)\n",
      "GICS Consumer Staples % (Long Rescaled)\n",
      "GICS Healthcare % (Long Rescaled)\n",
      "GICS Financials % (Long Rescaled)\n",
      "GICS Information Technology % (Long Rescaled)\n",
      "GICS Communication Services % (Long Rescaled)\n",
      "GICS Utilities % (Long Rescaled)\n",
      "GICS Real Estate % (Long Rescaled)\n",
      "GICS Equity Sector Rescaling Factor (Long)\n"
     ]
    }
   ],
   "source": [
    "\n",
    "path = \"/Users/tkyw/Desktop/Morningstar Data/\"\n",
    "files = os.listdir(path)\n",
    "dfs = []\n",
    "for file in files:\n",
    "    item = re.search(\"balanced.*\", file)\n",
    "    if item != None:\n",
    "        file_path = path + item.group(0)\n",
    "        df = pd.read_csv(file_path, index_col=0, on_bad_lines=\"skip\").iloc[:-1, :]\n",
    "        dfs.append(df)\n",
    "dfs[0]\n",
    "# df = pd.read_csv(path + \"mid_small shariah.csv\", sep=',', on_bad_lines=\"skip\", index_col=0).iloc[:50, :]\n",
    "# df2 = pd.read_csv(path.replace(\"1\", \"2\"), sep=',', on_bad_lines=\"skip\", index_col=0).iloc[:35, :]\n",
    "df = pd.concat(dfs, axis=0)\n",
    "name = \"Astute Dana Al-Faiz-i\"\n",
    "df.columns = [\"\".join(col.split(\"\\n\")) for col in df.columns]\n",
    "for col in df.columns:\n",
    "    print(col)"
   ]
  },
  {
   "cell_type": "code",
   "execution_count": 6,
   "metadata": {},
   "outputs": [
    {
     "data": {
      "text/plain": [
       "4.0"
      ]
     },
     "execution_count": 6,
     "metadata": {},
     "output_type": "execute_result"
    }
   ],
   "source": [
    "returns = [\n",
    "# \"Ret 1 Yr (Mo-End)\",\n",
    "# \"Ret Annlzd 3 Yr (Mo-End)\",\n",
    "# \"Ret Annlzd 5 Yr (Mo-End)\",\n",
    "# \"Ret Annlzd 10 Yr (Mo-End)\",\n",
    "\"Total Ret Annlzd 3 Yr (Daily) Base Currency\",\n",
    "\"Total Ret Annlzd 5 Yr (Daily) Base Currency\",\n",
    "\"Total Ret Annlzd 10 Yr (Daily) Base Currency\",\n",
    "# \"Annual Ret 2023 Base Currency\",\n",
    "# \"Annual Ret 2022 Base Currency\",\n",
    "# \"Annual Ret 2021 Base Currency\",\n",
    "# \"Annual Ret 2020 Base Currency\",\n",
    "# \"Annual Ret 2019 Base Currency\",\n",
    "# \"Annual Ret 2018 Base Currency\",\n",
    "# \"Annual Ret 2017 Base Currency\",\n",
    "# \"Annual Ret 2016 Base Currency\",\n",
    "# \"Annual Ret 2015 Base Currency\",\n",
    "# \"Annual Ret 2014 Base Currency\",\n",
    "# \"Annual Ret 2013 Base Currency\",\n",
    "]\n",
    "df = df.drop_duplicates()\n",
    "rets = df[returns].astype(float)\n",
    "\n",
    "# rets.loc[name, returns] = [8.6, 5.41, 4.43]\n",
    "# rets\n",
    "\n",
    "df_out = rets.apply(lambda x: pd.qcut(x, 5, labels=False)+1, axis=0)\n",
    "\n",
    "# returns_mean = df_out.loc[name]\n",
    "returns_mean = df_out.loc[name, :].mul([0.2, 0.3, 0.5]).sum()\n",
    "\n",
    "\n",
    "returns_mean\n"
   ]
  },
  {
   "cell_type": "code",
   "execution_count": 17,
   "metadata": {},
   "outputs": [
    {
     "data": {
      "text/plain": [
       "1.0"
      ]
     },
     "execution_count": 17,
     "metadata": {},
     "output_type": "execute_result"
    }
   ],
   "source": [
    "stds = [\n",
    "\"Std Dev 3 Yr (Mo-End) Risk Currency\",\n",
    "\"Std Dev 5 Yr (Mo-End) Risk Currency\",\n",
    "\"Std Dev 10 Yr (Mo-End) Risk Currency\",\n",
    "]\n",
    "std = df[stds].astype(float)\n",
    "# std.loc[name, stds] = [11.78, 17.63, 14.55]\n",
    "df_out = std.apply(lambda x: -1 * ((pd.qcut(x, 5, labels=False)+1 - 6)), axis=0)\n",
    "risk_mean = df_out.loc[name]\n",
    "risk_mean = df_out.loc[name].mul([0.2, 0.3, 0.5]).sum()\n",
    "risk_mean"
   ]
  },
  {
   "cell_type": "code",
   "execution_count": 18,
   "metadata": {},
   "outputs": [
    {
     "data": {
      "text/plain": [
       "2.2"
      ]
     },
     "execution_count": 18,
     "metadata": {},
     "output_type": "execute_result"
    }
   ],
   "source": [
    "excess_returns = [\n",
    "\"Alpha 3 Yr (Mo-End) Risk Currency\",\n",
    "\"Alpha 5 Yr (Mo-End) Risk Currency\",\n",
    "\"Alpha 10 Yr (Mo-End) Risk Currency\",\n",
    "]\n",
    "excess_return = df[excess_returns].astype(float)\n",
    "# excess_return.loc[name, excess_returns] = [46.74, 18.28, 33.96]\n",
    "df_out = excess_return.apply(lambda x: pd.qcut(x, 5, labels=False)+1, axis=0)\n",
    "excess_return_mean = df_out.loc[name,:]\n",
    "excess_return_mean = df_out.loc[name].mul([0.2, 0.3, 0.5]).sum()\n",
    "excess_return_mean"
   ]
  },
  {
   "cell_type": "code",
   "execution_count": 19,
   "metadata": {},
   "outputs": [
    {
     "data": {
      "text/plain": [
       "array([0.05 , 0.075, 0.125, 0.05 , 0.075, 0.125, 0.05 , 0.075, 0.125,\n",
       "       0.05 , 0.075, 0.125])"
      ]
     },
     "execution_count": 19,
     "metadata": {},
     "output_type": "execute_result"
    }
   ],
   "source": [
    "num = 4\n",
    "weight = np.array([0.2, 0.3, 0.5]) / num\n",
    "weightes = np.hstack([weight] * num)\n",
    "weightes"
   ]
  },
  {
   "cell_type": "code",
   "execution_count": 20,
   "metadata": {},
   "outputs": [
    {
     "data": {
      "text/plain": [
       "3.1999999999999997"
      ]
     },
     "execution_count": 20,
     "metadata": {},
     "output_type": "execute_result"
    }
   ],
   "source": [
    "performances = [\n",
    "\"Treynor Ratio 3 Yr (Mo-End) Risk Currency\",\n",
    "\"Treynor Ratio 5 Yr (Mo-End) Risk Currency\",\n",
    "\"Treynor Ratio 10 Yr (Mo-End) Risk Currency\",\n",
    "\"Sharpe Ratio 3 Yr (Mo-End) Risk Currency\",\n",
    "\"Sharpe Ratio 5 Yr (Mo-End) Risk Currency\",\n",
    "\"Sharpe Ratio 10 Yr (Mo-End) Risk Currency\",\n",
    "\"Sortino Ratio 3 Yr (Mo-End) Risk Currency\",\n",
    "\"Sortino Ratio 5 Yr (Mo-End) Risk Currency\",\n",
    "\"Sortino Ratio 10 Yr (Mo-End) Risk Currency\",\n",
    "\"Information Ratio 3 Yr (Mo-End) Risk Currency\",\n",
    "\"Information Ratio 5 Yr (Mo-End) Risk Currency\",\n",
    "\"Information Ratio 10 Yr (Mo-End) Risk Currency\",\n",
    "]\n",
    "performance = df[performances].astype(float)\n",
    "# performance.loc[name, performances] = [0.07, 0.05, 0.04, 0.5, 0.19, 0.18, 1.13, 0.29, 0.19]\n",
    "\n",
    "df_out = performance.apply(lambda x: pd.qcut(x, 5, labels=False)+1, axis=0)\n",
    "# df_out = df_out.loc[name, [\"Treynor Ratio 3 Yr (Mo-End) Risk Currency\", \"Sharpe Ratio 3 Yr (Mo-End) Risk Currency\", \"Information Ratio 3 Yr (Mo-End) Risk Currency\"]]\n",
    "performance_mean = df_out.loc[name].mul(weightes).sum()\n",
    "performance_mean"
   ]
  },
  {
   "cell_type": "code",
   "execution_count": 21,
   "metadata": {},
   "outputs": [
    {
     "data": {
      "text/plain": [
       "array([0.1 , 0.15, 0.25, 0.1 , 0.15, 0.25])"
      ]
     },
     "execution_count": 21,
     "metadata": {},
     "output_type": "execute_result"
    }
   ],
   "source": [
    "weight = np.array([0.2, 0.3, 0.5]) / 2\n",
    "weightes = np.hstack([weight, weight])\n",
    "weightes"
   ]
  },
  {
   "cell_type": "code",
   "execution_count": 22,
   "metadata": {},
   "outputs": [
    {
     "name": "stderr",
     "output_type": "stream",
     "text": [
      "/opt/homebrew/Caskroom/miniconda/base/envs/ven310/lib/python3.11/site-packages/numpy/lib/function_base.py:4655: RuntimeWarning: invalid value encountered in subtract\n",
      "  diff_b_a = subtract(b, a)\n"
     ]
    },
    {
     "data": {
      "text/plain": [
       "5.0"
      ]
     },
     "execution_count": 22,
     "metadata": {},
     "output_type": "execute_result"
    }
   ],
   "source": [
    "consistencies = [\n",
    "\"Batting Average 3 Yr (Mo-End) Risk Currency\",\n",
    "\"Batting Average 5 Yr (Mo-End) Risk Currency\",\n",
    "\"Batting Average 10 Yr (Mo-End) Risk Currency\",\n",
    "\"Upside Capture Ratio 3 Yr (Mo-End) Risk Currency\",\n",
    "\"Upside Capture Ratio 5 Yr (Mo-End) Risk Currency\",\n",
    "\"Upside Capture Ratio 10 Yr (Mo-End) Risk Currency\",\n",
    "\"Downside Capture Ratio 3 Yr (Mo-End) Risk Currency\",\n",
    "\"Downside Capture Ratio 5 Yr (Mo-End) Risk Currency\",\n",
    "\"Downside Capture Ratio 10 Yr (Mo-End) Risk Currency\",\n",
    "]\n",
    "\n",
    "consistency = df[consistencies].astype(float)\n",
    "consistency[\"capture ratio 3Y\"] = consistency['Upside Capture Ratio 3 Yr (Mo-End) Risk Currency'] / consistency['Downside Capture Ratio 3 Yr (Mo-End) Risk Currency']\n",
    "consistency[\"capture ratio 5Y\"] = consistency['Upside Capture Ratio 5 Yr (Mo-End) Risk Currency'] / consistency['Downside Capture Ratio 5 Yr (Mo-End) Risk Currency']\n",
    "consistency[\"capture ratio 10Y\"] = consistency['Upside Capture Ratio 10 Yr (Mo-End) Risk Currency'] / consistency['Downside Capture Ratio 10 Yr (Mo-End) Risk Currency']\n",
    "consistency\n",
    "consistency.loc[name, [\"Batting Average 3 Yr (Mo-End) Risk Currency\", \"Batting Average 5 Yr (Mo-End) Risk Currency\", \"Batting Average 10 Yr (Mo-End) Risk Currency\", \"capture ratio 3Y\", \"capture ratio 5Y\", \"capture ratio 10Y\"]] = [66.67, 55, 48.33, 431.93, 130.37, 129.54]\n",
    "\n",
    "def quintile(x, s):\n",
    "    return pd.qcut(x, s, labels=False, duplicates=\"drop\")\n",
    "\n",
    "consistency = consistency.loc[:, [\n",
    "    \"Batting Average 3 Yr (Mo-End) Risk Currency\",\n",
    "    \"Batting Average 5 Yr (Mo-End) Risk Currency\",\n",
    "    \"Batting Average 10 Yr (Mo-End) Risk Currency\",\n",
    "    \"capture ratio 3Y\",\n",
    "    \"capture ratio 5Y\",\n",
    "    \"capture ratio 10Y\",\n",
    "]]\n",
    "consistency = consistency.apply(lambda x: quintile(x, 5)+1, axis=0)\n",
    "consistency_mean = consistency.loc[name].mul(weightes).sum()\n",
    "consistency_mean"
   ]
  },
  {
   "cell_type": "code",
   "execution_count": 23,
   "metadata": {},
   "outputs": [],
   "source": [
    "## without consistency = [10/75, 20/75, 0.2, 0.4]\n",
    "# consistency = [0.15, 0.2, 0.15, 0.15, 0.35]"
   ]
  },
  {
   "cell_type": "code",
   "execution_count": 24,
   "metadata": {},
   "outputs": [
    {
     "data": {
      "text/html": [
       "<div>\n",
       "<style scoped>\n",
       "    .dataframe tbody tr th:only-of-type {\n",
       "        vertical-align: middle;\n",
       "    }\n",
       "\n",
       "    .dataframe tbody tr th {\n",
       "        vertical-align: top;\n",
       "    }\n",
       "\n",
       "    .dataframe thead th {\n",
       "        text-align: right;\n",
       "    }\n",
       "</style>\n",
       "<table border=\"1\" class=\"dataframe\">\n",
       "  <thead>\n",
       "    <tr style=\"text-align: right;\">\n",
       "      <th></th>\n",
       "      <th>Ratings</th>\n",
       "    </tr>\n",
       "  </thead>\n",
       "  <tbody>\n",
       "    <tr>\n",
       "      <th>Return</th>\n",
       "      <td>4.00</td>\n",
       "    </tr>\n",
       "    <tr>\n",
       "      <th>Excess Return</th>\n",
       "      <td>2.20</td>\n",
       "    </tr>\n",
       "    <tr>\n",
       "      <th>Risk</th>\n",
       "      <td>1.00</td>\n",
       "    </tr>\n",
       "    <tr>\n",
       "      <th>Consistency</th>\n",
       "      <td>5.00</td>\n",
       "    </tr>\n",
       "    <tr>\n",
       "      <th>Performance</th>\n",
       "      <td>3.20</td>\n",
       "    </tr>\n",
       "    <tr>\n",
       "      <th>Overall</th>\n",
       "      <td>3.06</td>\n",
       "    </tr>\n",
       "  </tbody>\n",
       "</table>\n",
       "</div>"
      ],
      "text/plain": [
       "               Ratings\n",
       "Return            4.00\n",
       "Excess Return     2.20\n",
       "Risk              1.00\n",
       "Consistency       5.00\n",
       "Performance       3.20\n",
       "Overall           3.06"
      ]
     },
     "execution_count": 24,
     "metadata": {},
     "output_type": "execute_result"
    }
   ],
   "source": [
    "overall = (np.array([returns_mean, excess_return_mean, risk_mean, consistency_mean , performance_mean]) * [0.15, 0.2, 0.15, 0.15, 0.35]).sum()\n",
    "ratings = pd.DataFrame([returns_mean, excess_return_mean, risk_mean, consistency_mean, performance_mean, overall], index=['Return', 'Excess Return', \"Risk\", \"Consistency\", \"Performance\", \"Overall\"], columns=['Ratings'])\n",
    "ratings.to_clipboard(excel=True, header=False, index=False)\n",
    "ratings"
   ]
  },
  {
   "cell_type": "code",
   "execution_count": null,
   "metadata": {},
   "outputs": [],
   "source": [
    "df.loc[\"Astute Malaysia Growth Trust\", \"\"]"
   ]
  }
 ],
 "metadata": {
  "kernelspec": {
   "display_name": "Python 3 (ipykernel)",
   "language": "python",
   "name": "python3"
  },
  "language_info": {
   "codemirror_mode": {
    "name": "ipython",
    "version": 3
   },
   "file_extension": ".py",
   "mimetype": "text/x-python",
   "name": "python",
   "nbconvert_exporter": "python",
   "pygments_lexer": "ipython3",
   "version": "3.11.4"
  }
 },
 "nbformat": 4,
 "nbformat_minor": 4
}
