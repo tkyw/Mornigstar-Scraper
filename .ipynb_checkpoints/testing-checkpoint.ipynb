{
 "cells": [
  {
   "cell_type": "code",
   "execution_count": 35,
   "metadata": {},
   "outputs": [],
   "source": [
    "import pandas as pd \n",
    "import numpy as np "
   ]
  },
  {
   "cell_type": "code",
   "execution_count": 201,
   "metadata": {},
   "outputs": [
    {
     "ename": "TypeError",
     "evalue": "Index.drop() got an unexpected keyword argument 'axis'",
     "output_type": "error",
     "traceback": [
      "\u001b[0;31m---------------------------------------------------------------------------\u001b[0m",
      "\u001b[0;31mTypeError\u001b[0m                                 Traceback (most recent call last)",
      "Cell \u001b[0;32mIn[201], line 2\u001b[0m\n\u001b[1;32m      1\u001b[0m df \u001b[38;5;241m=\u001b[39m pd\u001b[38;5;241m.\u001b[39mread_csv(\u001b[38;5;124m\"\u001b[39m\u001b[38;5;124mASTUTE DYNAMIC FUND.csv\u001b[39m\u001b[38;5;124m\"\u001b[39m, index_col\u001b[38;5;241m=\u001b[39m\u001b[38;5;241m1\u001b[39m, parse_dates\u001b[38;5;241m=\u001b[39m\u001b[38;5;28;01mTrue\u001b[39;00m)\u001b[38;5;241m.\u001b[39mdropna()\n\u001b[0;32m----> 2\u001b[0m df\u001b[38;5;241m.\u001b[39mindex \u001b[38;5;241m=\u001b[39m \u001b[43mpd\u001b[49m\u001b[38;5;241;43m.\u001b[39;49m\u001b[43mto_datetime\u001b[49m\u001b[43m(\u001b[49m\u001b[43mdf\u001b[49m\u001b[38;5;241;43m.\u001b[39;49m\u001b[43mindex\u001b[49m\u001b[43m,\u001b[49m\u001b[43m \u001b[49m\u001b[38;5;28;43mformat\u001b[39;49m\u001b[38;5;241;43m=\u001b[39;49m\u001b[38;5;124;43m\"\u001b[39;49m\u001b[38;5;132;43;01m%d\u001b[39;49;00m\u001b[38;5;124;43m/\u001b[39;49m\u001b[38;5;124;43m%\u001b[39;49m\u001b[38;5;124;43mm/\u001b[39;49m\u001b[38;5;124;43m%\u001b[39;49m\u001b[38;5;124;43mY\u001b[39;49m\u001b[38;5;124;43m\"\u001b[39;49m\u001b[43m)\u001b[49m\u001b[38;5;241;43m.\u001b[39;49m\u001b[43mdrop\u001b[49m\u001b[43m(\u001b[49m\u001b[38;5;124;43m\"\u001b[39;49m\u001b[38;5;124;43mUnnamed: 0\u001b[39;49m\u001b[38;5;124;43m\"\u001b[39;49m\u001b[43m,\u001b[49m\u001b[43m \u001b[49m\u001b[43maxis\u001b[49m\u001b[38;5;241;43m=\u001b[39;49m\u001b[38;5;241;43m1\u001b[39;49m\u001b[43m)\u001b[49m\n\u001b[1;32m      3\u001b[0m \u001b[38;5;66;03m# index = pd.date_range(\"2018-01-01\", \"2024-03-31\", freq='D')\u001b[39;00m\n\u001b[1;32m      4\u001b[0m \u001b[38;5;66;03m# df = pd.DataFrame(np.random.random(len(index)), index=index, columns=['Last'])\u001b[39;00m\n\u001b[1;32m      5\u001b[0m df\n",
      "\u001b[0;31mTypeError\u001b[0m: Index.drop() got an unexpected keyword argument 'axis'"
     ]
    }
   ],
   "source": [
    "df = pd.read_csv(\"ASTUTE DYNAMIC FUND.csv\", index_col=1, parse_dates=True).dropna()\n",
    "df.index = pd.to_datetime(df.index, format=\"%d/%m/%Y\").drop(\"Unnamed: 0\", axis=1)\n",
    "# index = pd.date_range(\"2018-01-01\", \"2024-03-31\", freq='D')\n",
    "# df = pd.DataFrame(np.random.random(len(index)), index=index, columns=['Last'])\n",
    "df"
   ]
  },
  {
   "cell_type": "code",
   "execution_count": 181,
   "metadata": {},
   "outputs": [],
   "source": [
    "class Financial_metrics_calculation:\n",
    "\n",
    "    YTD_RISK_FREE_RATE =0.0067\n",
    "    ONE_Y_RISK_FREE_RATE = 0.028\n",
    "    THREE_Y_RISK_FREE_RATE = 0.0734\n",
    "    FIVE_Y_RISK_FREE_RATE = 0.1276\n",
    "    TEN_Y_RISK_FREE_RATE = 0.3228\n",
    "\n",
    "    RISK_FREE_RATES = pd.DataFrame([YTD_RISK_FREE_RATE, ONE_Y_RISK_FREE_RATE, THREE_Y_RISK_FREE_RATE, FIVE_Y_RISK_FREE_RATE, TEN_Y_RISK_FREE_RATE], index=[\"YTD Risk Free Rate\", \"1Y Risk Free Rate\", \"3Y Risk Free Rate\", \"5Y Risk Free Rate\", \"10Y Risk Free Rate\"]).T\n",
    "\n",
    "    def __init__(self, df):\n",
    "        self.df = df\n",
    "        self.month_end_data = self.df.resample(\"M\").last()\n",
    "        self.years = self.df.index.year.unique()\n",
    "\n",
    "    def compute_returns(self, return_df):\n",
    "        return (return_df.iloc[-1, :] / return_df.iloc[0, :]) - 1\n",
    "\n",
    "    def annual_return(self):\n",
    "        return_df = pd.DataFrame()\n",
    "        for year in self.years:\n",
    "            return_df[f\"{year} Return\"] = self.compute_returns(self.df.loc[str(year), :])\n",
    "        return return_df\n",
    "\n",
    "    def fund_returns(self):\n",
    "        return_df = pd.DataFrame(columns=[\"YTD Return\", \"1Y Return\", \"3Y Return\", \"5Y Return\", \"10Y Return\"])\n",
    "        return_df[\"YTD Return\"] = self.compute_returns(self.df.loc[\"2024\", :])\n",
    "        years = [1, 3, 5, 10]\n",
    "        for year in years:\n",
    "            end_date = self.df.index[-1].date()\n",
    "            start_date = end_date - pd.DateOffset(years=year)\n",
    "            earliest_date = self.df.index[0].date()        \n",
    "            if start_date.date() >= earliest_date:\n",
    "                period_df = self.df.loc[str( start_date ): str(end_date)] \n",
    "                return_df[f\"{year}Y Return\"] = self.compute_returns(period_df)\n",
    "            else:\n",
    "                return_df[f\"{year}Y Return\"] = np.nan\n",
    "        return return_df\n",
    "\n",
    "    def compute_std(self, period_df):\n",
    "        return_df = period_df.pct_change()\n",
    "        return return_df.std(ddof=1)\n",
    "\n",
    "    def annual_std(self):\n",
    "        std_df = pd.DataFrame()\n",
    "        for year in self.years:\n",
    "            std_df[f\"{year} Std\"] = self.compute_std(self.df.loc[str(year), :])\n",
    "        return std_df\n",
    "\n",
    "    def fund_std(self):\n",
    "        std_df = pd.DataFrame(columns=[\"YTD Std\", \"1Y Std\", \"3Y Std\", \"5Y Std\", \"10Y Std\"])\n",
    "        std_df[\"YTD Std\"] = self.compute_std(self.df.loc[\"2024\", :])\n",
    "        years = [1, 3, 5, 10]\n",
    "        for year in years:\n",
    "            end_date = self.df.index[-1].date()\n",
    "            start_date = end_date - pd.DateOffset(years=year)\n",
    "            earliest_date = self.df.index[0].date()        \n",
    "            if start_date.date() >= earliest_date:\n",
    "                period_df = self.df.loc[str( start_date ): str(end_date)]\n",
    "                std_df[f\"{year}Y Std\"] = self.compute_std(period_df)\n",
    "            else:\n",
    "                std_df[f\"{year}Y Std\"] = np.nan\n",
    "        return std_df\n",
    "\n",
    "    def annualized_return(self, return_df):\n",
    "        target_return = return_df.iloc[:5, :]\n",
    "        temp_df = pd.concat([target_return, pd.Series([self.df.index[-1].month/12, 1, 3, 5, 10], index=target_return.index)], axis=1)\n",
    "        annualized_df = (1 + temp_df.iloc[:, 0]) ** (1/temp_df.iloc[:, -1]) - 1\n",
    "        return_df.iloc[:5, :] = annualized_df.to_frame()\n",
    "        return return_df\n",
    "\n",
    "    def annuazlied_std(self, std_df):\n",
    "        return std_df * np.sqrt(252)\n",
    "    \n",
    "    def fund_sharpe(self):\n",
    "        fund_returns = self.annualized_return( pd.concat([self.fund_returns(), self.annual_return()], axis=1).T)\n",
    "        fund_stds = self.annuazlied_std( pd.concat([self.fund_std(), self.annual_std()], axis=1).T )\n",
    "        fund_risk_free_rates = pd.DataFrame(np.full_like(fund_returns, Financial_metrics_calculation.ONE_Y_RISK_FREE_RATE), index=fund_returns.index)\n",
    "        sharpe_df = pd.concat([fund_returns.reset_index(drop=True), fund_risk_free_rates.reset_index(drop=True), fund_stds.reset_index(drop=True)], axis=1, ignore_index=True)\n",
    "        sharpe_df = sharpe_df.rename(columns = dict(zip(sharpe_df.columns, [\"Returns\", \"Risk Free Rate\", \"Std\"])))\n",
    "        sharpe_df.index = [\"YTD Sharpe\", \"1Y Sharpe\", \"3Y Sharpe\", \"5Y Sharpe\", \"10Y Sharpe\"] + [f\"{year} Sharpe\" for year in self.years]\n",
    "        sharpe_ratio_df = ((sharpe_df['Returns'] - sharpe_df['Risk Free Rate']) / sharpe_df['Std']).to_frame()\n",
    "        sharpe_ratio_df.columns = [\"Last\"]\n",
    "        return sharpe_ratio_df\n",
    "\n",
    "    def max_drawdown(self):\n",
    "        max_nav = self.df.cummax()\n",
    "        diff_nav_max = self.df - max_nav\n",
    "        drawdown = diff_nav_max / max_nav\n",
    "        max_drawdown = drawdown.min()\n",
    "        # print(max_drawdown)\n",
    "        return max_drawdown"
   ]
  },
  {
   "cell_type": "code",
   "execution_count": 185,
   "metadata": {},
   "outputs": [
    {
     "data": {
      "text/html": [
       "<div>\n",
       "<style scoped>\n",
       "    .dataframe tbody tr th:only-of-type {\n",
       "        vertical-align: middle;\n",
       "    }\n",
       "\n",
       "    .dataframe tbody tr th {\n",
       "        vertical-align: top;\n",
       "    }\n",
       "\n",
       "    .dataframe thead th {\n",
       "        text-align: right;\n",
       "    }\n",
       "</style>\n",
       "<table border=\"1\" class=\"dataframe\">\n",
       "  <thead>\n",
       "    <tr style=\"text-align: right;\">\n",
       "      <th></th>\n",
       "      <th>Last</th>\n",
       "    </tr>\n",
       "  </thead>\n",
       "  <tbody>\n",
       "    <tr>\n",
       "      <th>YTD Return</th>\n",
       "      <td>7.311701</td>\n",
       "    </tr>\n",
       "    <tr>\n",
       "      <th>1Y Return</th>\n",
       "      <td>9.661462</td>\n",
       "    </tr>\n",
       "    <tr>\n",
       "      <th>3Y Return</th>\n",
       "      <td>0.268652</td>\n",
       "    </tr>\n",
       "    <tr>\n",
       "      <th>5Y Return</th>\n",
       "      <td>0.515226</td>\n",
       "    </tr>\n",
       "    <tr>\n",
       "      <th>10Y Return</th>\n",
       "      <td>NaN</td>\n",
       "    </tr>\n",
       "  </tbody>\n",
       "</table>\n",
       "</div>"
      ],
      "text/plain": [
       "                Last\n",
       "YTD Return  7.311701\n",
       "1Y Return   9.661462\n",
       "3Y Return   0.268652\n",
       "5Y Return   0.515226\n",
       "10Y Return       NaN"
      ]
     },
     "execution_count": 185,
     "metadata": {},
     "output_type": "execute_result"
    }
   ],
   "source": [
    "x= fund.annualized_return(fund.fund_returns().T)\n",
    "x"
   ]
  },
  {
   "cell_type": "code",
   "execution_count": 187,
   "metadata": {},
   "outputs": [
    {
     "data": {
      "text/html": [
       "<div>\n",
       "<style scoped>\n",
       "    .dataframe tbody tr th:only-of-type {\n",
       "        vertical-align: middle;\n",
       "    }\n",
       "\n",
       "    .dataframe tbody tr th {\n",
       "        vertical-align: top;\n",
       "    }\n",
       "\n",
       "    .dataframe thead th {\n",
       "        text-align: right;\n",
       "    }\n",
       "</style>\n",
       "<table border=\"1\" class=\"dataframe\">\n",
       "  <thead>\n",
       "    <tr style=\"text-align: right;\">\n",
       "      <th></th>\n",
       "      <th>Last</th>\n",
       "    </tr>\n",
       "  </thead>\n",
       "  <tbody>\n",
       "    <tr>\n",
       "      <th>YTD Std</th>\n",
       "      <td>281.673498</td>\n",
       "    </tr>\n",
       "    <tr>\n",
       "      <th>1Y Std</th>\n",
       "      <td>150.736581</td>\n",
       "    </tr>\n",
       "    <tr>\n",
       "      <th>3Y Std</th>\n",
       "      <td>6755.318016</td>\n",
       "    </tr>\n",
       "    <tr>\n",
       "      <th>5Y Std</th>\n",
       "      <td>5237.939979</td>\n",
       "    </tr>\n",
       "    <tr>\n",
       "      <th>10Y Std</th>\n",
       "      <td>NaN</td>\n",
       "    </tr>\n",
       "  </tbody>\n",
       "</table>\n",
       "</div>"
      ],
      "text/plain": [
       "                Last\n",
       "YTD Std   281.673498\n",
       "1Y Std    150.736581\n",
       "3Y Std   6755.318016\n",
       "5Y Std   5237.939979\n",
       "10Y Std          NaN"
      ]
     },
     "execution_count": 187,
     "metadata": {},
     "output_type": "execute_result"
    }
   ],
   "source": [
    "y = fund.annuazlied_std(fund.fund_std().T)\n",
    "y"
   ]
  },
  {
   "cell_type": "code",
   "execution_count": 189,
   "metadata": {},
   "outputs": [
    {
     "data": {
      "text/plain": [
       "9.301862983413158e-05"
      ]
     },
     "execution_count": 189,
     "metadata": {},
     "output_type": "execute_result"
    }
   ],
   "source": [
    "(0.515226 - 0.028) / 5237.939979"
   ]
  },
  {
   "cell_type": "code",
   "execution_count": 182,
   "metadata": {},
   "outputs": [
    {
     "data": {
      "text/html": [
       "<div>\n",
       "<style scoped>\n",
       "    .dataframe tbody tr th:only-of-type {\n",
       "        vertical-align: middle;\n",
       "    }\n",
       "\n",
       "    .dataframe tbody tr th {\n",
       "        vertical-align: top;\n",
       "    }\n",
       "\n",
       "    .dataframe thead th {\n",
       "        text-align: right;\n",
       "    }\n",
       "</style>\n",
       "<table border=\"1\" class=\"dataframe\">\n",
       "  <thead>\n",
       "    <tr style=\"text-align: right;\">\n",
       "      <th></th>\n",
       "      <th>Last</th>\n",
       "    </tr>\n",
       "  </thead>\n",
       "  <tbody>\n",
       "    <tr>\n",
       "      <th>YTD Sharpe</th>\n",
       "      <td>0.025859</td>\n",
       "    </tr>\n",
       "    <tr>\n",
       "      <th>1Y Sharpe</th>\n",
       "      <td>0.063909</td>\n",
       "    </tr>\n",
       "    <tr>\n",
       "      <th>3Y Sharpe</th>\n",
       "      <td>0.000036</td>\n",
       "    </tr>\n",
       "    <tr>\n",
       "      <th>5Y Sharpe</th>\n",
       "      <td>0.000093</td>\n",
       "    </tr>\n",
       "    <tr>\n",
       "      <th>10Y Sharpe</th>\n",
       "      <td>NaN</td>\n",
       "    </tr>\n",
       "    <tr>\n",
       "      <th>2018 Sharpe</th>\n",
       "      <td>0.002940</td>\n",
       "    </tr>\n",
       "    <tr>\n",
       "      <th>2019 Sharpe</th>\n",
       "      <td>-0.000075</td>\n",
       "    </tr>\n",
       "    <tr>\n",
       "      <th>2020 Sharpe</th>\n",
       "      <td>0.064573</td>\n",
       "    </tr>\n",
       "    <tr>\n",
       "      <th>2021 Sharpe</th>\n",
       "      <td>-0.000034</td>\n",
       "    </tr>\n",
       "    <tr>\n",
       "      <th>2022 Sharpe</th>\n",
       "      <td>-0.000008</td>\n",
       "    </tr>\n",
       "    <tr>\n",
       "      <th>2023 Sharpe</th>\n",
       "      <td>-0.000809</td>\n",
       "    </tr>\n",
       "    <tr>\n",
       "      <th>2024 Sharpe</th>\n",
       "      <td>0.002378</td>\n",
       "    </tr>\n",
       "  </tbody>\n",
       "</table>\n",
       "</div>"
      ],
      "text/plain": [
       "                 Last\n",
       "YTD Sharpe   0.025859\n",
       "1Y Sharpe    0.063909\n",
       "3Y Sharpe    0.000036\n",
       "5Y Sharpe    0.000093\n",
       "10Y Sharpe        NaN\n",
       "2018 Sharpe  0.002940\n",
       "2019 Sharpe -0.000075\n",
       "2020 Sharpe  0.064573\n",
       "2021 Sharpe -0.000034\n",
       "2022 Sharpe -0.000008\n",
       "2023 Sharpe -0.000809\n",
       "2024 Sharpe  0.002378"
      ]
     },
     "execution_count": 182,
     "metadata": {},
     "output_type": "execute_result"
    }
   ],
   "source": [
    "fund = Financial_metrics_calculation(df)\n",
    "x= fund.fund_sharpe()\n",
    "# y = pd.concat([x.iloc[:5, :], pd.Series([3/12, 1, 3, 5, 10], index=x.iloc[:5, :].index)], axis=1)\n",
    "# z = (1 + y['Last']) ** y[0] - 1\n",
    "# # x.iloc[:5] = z.to_frame()\n",
    "# y\n",
    "x"
   ]
  },
  {
   "cell_type": "code",
   "execution_count": 88,
   "metadata": {},
   "outputs": [
    {
     "data": {
      "text/plain": [
       "3"
      ]
     },
     "execution_count": 88,
     "metadata": {},
     "output_type": "execute_result"
    }
   ],
   "source": [
    "\n",
    "df.index[-1].month"
   ]
  },
  {
   "cell_type": "code",
   "execution_count": 39,
   "metadata": {},
   "outputs": [
    {
     "data": {
      "text/plain": [
       "True"
      ]
     },
     "execution_count": 39,
     "metadata": {},
     "output_type": "execute_result"
    }
   ],
   "source": [
    "# date  = df.index[0].date() \n",
    "end_date = df.index[-1].date()\n",
    "start_date = end_date - pd.DateOffset(years=1)\n",
    "earliest_date = df.index[0].date()\n",
    "start_date.date() >= earliest_date"
   ]
  },
  {
   "cell_type": "code",
   "execution_count": null,
   "metadata": {},
   "outputs": [],
   "source": [
    "date = \n",
    "df.loc[]"
   ]
  },
  {
   "cell_type": "code",
   "execution_count": 41,
   "metadata": {},
   "outputs": [
    {
     "ename": "KeyError",
     "evalue": "'2024'",
     "output_type": "error",
     "traceback": [
      "\u001b[0;31m---------------------------------------------------------------------------\u001b[0m",
      "\u001b[0;31mKeyError\u001b[0m                                  Traceback (most recent call last)",
      "File \u001b[0;32m/opt/homebrew/Caskroom/miniconda/base/envs/ven310/lib/python3.11/site-packages/pandas/core/indexes/datetimes.py:564\u001b[0m, in \u001b[0;36mDatetimeIndex.get_loc\u001b[0;34m(self, key)\u001b[0m\n\u001b[1;32m    563\u001b[0m \u001b[38;5;28;01mtry\u001b[39;00m:\n\u001b[0;32m--> 564\u001b[0m     \u001b[38;5;28;01mreturn\u001b[39;00m \u001b[38;5;28;43mself\u001b[39;49m\u001b[38;5;241;43m.\u001b[39;49m\u001b[43m_partial_date_slice\u001b[49m\u001b[43m(\u001b[49m\u001b[43mreso\u001b[49m\u001b[43m,\u001b[49m\u001b[43m \u001b[49m\u001b[43mparsed\u001b[49m\u001b[43m)\u001b[49m\n\u001b[1;32m    565\u001b[0m \u001b[38;5;28;01mexcept\u001b[39;00m \u001b[38;5;167;01mKeyError\u001b[39;00m \u001b[38;5;28;01mas\u001b[39;00m err:\n",
      "File \u001b[0;32m/opt/homebrew/Caskroom/miniconda/base/envs/ven310/lib/python3.11/site-packages/pandas/core/indexes/datetimelike.py:307\u001b[0m, in \u001b[0;36mDatetimeIndexOpsMixin._partial_date_slice\u001b[0;34m(self, reso, parsed)\u001b[0m\n\u001b[1;32m    303\u001b[0m \u001b[38;5;28;01mif\u001b[39;00m \u001b[38;5;28mlen\u001b[39m(\u001b[38;5;28mself\u001b[39m) \u001b[38;5;129;01mand\u001b[39;00m (\n\u001b[1;32m    304\u001b[0m     (t1 \u001b[38;5;241m<\u001b[39m \u001b[38;5;28mself\u001b[39m[\u001b[38;5;241m0\u001b[39m] \u001b[38;5;129;01mand\u001b[39;00m t2 \u001b[38;5;241m<\u001b[39m \u001b[38;5;28mself\u001b[39m[\u001b[38;5;241m0\u001b[39m]) \u001b[38;5;129;01mor\u001b[39;00m (t1 \u001b[38;5;241m>\u001b[39m \u001b[38;5;28mself\u001b[39m[\u001b[38;5;241m-\u001b[39m\u001b[38;5;241m1\u001b[39m] \u001b[38;5;129;01mand\u001b[39;00m t2 \u001b[38;5;241m>\u001b[39m \u001b[38;5;28mself\u001b[39m[\u001b[38;5;241m-\u001b[39m\u001b[38;5;241m1\u001b[39m])\n\u001b[1;32m    305\u001b[0m ):\n\u001b[1;32m    306\u001b[0m     \u001b[38;5;66;03m# we are out of range\u001b[39;00m\n\u001b[0;32m--> 307\u001b[0m     \u001b[38;5;28;01mraise\u001b[39;00m \u001b[38;5;167;01mKeyError\u001b[39;00m\n\u001b[1;32m    309\u001b[0m \u001b[38;5;66;03m# TODO: does this depend on being monotonic _increasing_?\u001b[39;00m\n\u001b[1;32m    310\u001b[0m \n\u001b[1;32m    311\u001b[0m \u001b[38;5;66;03m# a monotonic (sorted) series can be sliced\u001b[39;00m\n",
      "\u001b[0;31mKeyError\u001b[0m: ",
      "\nThe above exception was the direct cause of the following exception:\n",
      "\u001b[0;31mKeyError\u001b[0m                                  Traceback (most recent call last)",
      "Cell \u001b[0;32mIn[41], line 2\u001b[0m\n\u001b[1;32m      1\u001b[0m financial_metrics \u001b[38;5;241m=\u001b[39m Financial_metrics_calculation(df)\n\u001b[0;32m----> 2\u001b[0m returns \u001b[38;5;241m=\u001b[39m pd\u001b[38;5;241m.\u001b[39mconcat([\u001b[43mfinancial_metrics\u001b[49m\u001b[38;5;241;43m.\u001b[39;49m\u001b[43mfund_returns\u001b[49m\u001b[43m(\u001b[49m\u001b[43m)\u001b[49m, financial_metrics\u001b[38;5;241m.\u001b[39mannual_return()], axis\u001b[38;5;241m=\u001b[39m\u001b[38;5;241m1\u001b[39m)\n\u001b[1;32m      3\u001b[0m sharpe_ratios \u001b[38;5;241m=\u001b[39m financial_metrics\u001b[38;5;241m.\u001b[39mfund_sharpe()\u001b[38;5;241m.\u001b[39mT\n\u001b[1;32m      4\u001b[0m max_drawdown \u001b[38;5;241m=\u001b[39m financial_metrics\u001b[38;5;241m.\u001b[39mmax_drawdown()\n",
      "Cell \u001b[0;32mIn[37], line 28\u001b[0m, in \u001b[0;36mFinancial_metrics_calculation.fund_returns\u001b[0;34m(self)\u001b[0m\n\u001b[1;32m     26\u001b[0m \u001b[38;5;28;01mdef\u001b[39;00m \u001b[38;5;21mfund_returns\u001b[39m(\u001b[38;5;28mself\u001b[39m):\n\u001b[1;32m     27\u001b[0m     return_df \u001b[38;5;241m=\u001b[39m pd\u001b[38;5;241m.\u001b[39mDataFrame(columns\u001b[38;5;241m=\u001b[39m[\u001b[38;5;124m\"\u001b[39m\u001b[38;5;124mYTD Return\u001b[39m\u001b[38;5;124m\"\u001b[39m, \u001b[38;5;124m\"\u001b[39m\u001b[38;5;124m1Y Return\u001b[39m\u001b[38;5;124m\"\u001b[39m, \u001b[38;5;124m\"\u001b[39m\u001b[38;5;124m3Y Return\u001b[39m\u001b[38;5;124m\"\u001b[39m, \u001b[38;5;124m\"\u001b[39m\u001b[38;5;124m5Y Return\u001b[39m\u001b[38;5;124m\"\u001b[39m, \u001b[38;5;124m\"\u001b[39m\u001b[38;5;124m10Y Return\u001b[39m\u001b[38;5;124m\"\u001b[39m])\n\u001b[0;32m---> 28\u001b[0m     return_df[\u001b[38;5;124m\"\u001b[39m\u001b[38;5;124mYTD Return\u001b[39m\u001b[38;5;124m\"\u001b[39m] \u001b[38;5;241m=\u001b[39m \u001b[38;5;28mself\u001b[39m\u001b[38;5;241m.\u001b[39mcompute_returns(\u001b[38;5;28;43mself\u001b[39;49m\u001b[38;5;241;43m.\u001b[39;49m\u001b[43mdf\u001b[49m\u001b[38;5;241;43m.\u001b[39;49m\u001b[43mloc\u001b[49m\u001b[43m[\u001b[49m\u001b[38;5;124;43m\"\u001b[39;49m\u001b[38;5;124;43m2024\u001b[39;49m\u001b[38;5;124;43m\"\u001b[39;49m\u001b[43m,\u001b[49m\u001b[43m \u001b[49m\u001b[43m:\u001b[49m\u001b[43m]\u001b[49m)\n\u001b[1;32m     29\u001b[0m     years \u001b[38;5;241m=\u001b[39m [\u001b[38;5;241m1\u001b[39m, \u001b[38;5;241m3\u001b[39m, \u001b[38;5;241m5\u001b[39m, \u001b[38;5;241m10\u001b[39m]\n\u001b[1;32m     30\u001b[0m     \u001b[38;5;28;01mfor\u001b[39;00m year \u001b[38;5;129;01min\u001b[39;00m years:\n",
      "File \u001b[0;32m/opt/homebrew/Caskroom/miniconda/base/envs/ven310/lib/python3.11/site-packages/pandas/core/indexing.py:1097\u001b[0m, in \u001b[0;36m_LocationIndexer.__getitem__\u001b[0;34m(self, key)\u001b[0m\n\u001b[1;32m   1095\u001b[0m     \u001b[38;5;28;01mif\u001b[39;00m \u001b[38;5;28mself\u001b[39m\u001b[38;5;241m.\u001b[39m_is_scalar_access(key):\n\u001b[1;32m   1096\u001b[0m         \u001b[38;5;28;01mreturn\u001b[39;00m \u001b[38;5;28mself\u001b[39m\u001b[38;5;241m.\u001b[39mobj\u001b[38;5;241m.\u001b[39m_get_value(\u001b[38;5;241m*\u001b[39mkey, takeable\u001b[38;5;241m=\u001b[39m\u001b[38;5;28mself\u001b[39m\u001b[38;5;241m.\u001b[39m_takeable)\n\u001b[0;32m-> 1097\u001b[0m     \u001b[38;5;28;01mreturn\u001b[39;00m \u001b[38;5;28;43mself\u001b[39;49m\u001b[38;5;241;43m.\u001b[39;49m\u001b[43m_getitem_tuple\u001b[49m\u001b[43m(\u001b[49m\u001b[43mkey\u001b[49m\u001b[43m)\u001b[49m\n\u001b[1;32m   1098\u001b[0m \u001b[38;5;28;01melse\u001b[39;00m:\n\u001b[1;32m   1099\u001b[0m     \u001b[38;5;66;03m# we by definition only have the 0th axis\u001b[39;00m\n\u001b[1;32m   1100\u001b[0m     axis \u001b[38;5;241m=\u001b[39m \u001b[38;5;28mself\u001b[39m\u001b[38;5;241m.\u001b[39maxis \u001b[38;5;129;01mor\u001b[39;00m \u001b[38;5;241m0\u001b[39m\n",
      "File \u001b[0;32m/opt/homebrew/Caskroom/miniconda/base/envs/ven310/lib/python3.11/site-packages/pandas/core/indexing.py:1280\u001b[0m, in \u001b[0;36m_LocIndexer._getitem_tuple\u001b[0;34m(self, tup)\u001b[0m\n\u001b[1;32m   1278\u001b[0m \u001b[38;5;28;01mwith\u001b[39;00m suppress(IndexingError):\n\u001b[1;32m   1279\u001b[0m     tup \u001b[38;5;241m=\u001b[39m \u001b[38;5;28mself\u001b[39m\u001b[38;5;241m.\u001b[39m_expand_ellipsis(tup)\n\u001b[0;32m-> 1280\u001b[0m     \u001b[38;5;28;01mreturn\u001b[39;00m \u001b[38;5;28;43mself\u001b[39;49m\u001b[38;5;241;43m.\u001b[39;49m\u001b[43m_getitem_lowerdim\u001b[49m\u001b[43m(\u001b[49m\u001b[43mtup\u001b[49m\u001b[43m)\u001b[49m\n\u001b[1;32m   1282\u001b[0m \u001b[38;5;66;03m# no multi-index, so validate all of the indexers\u001b[39;00m\n\u001b[1;32m   1283\u001b[0m tup \u001b[38;5;241m=\u001b[39m \u001b[38;5;28mself\u001b[39m\u001b[38;5;241m.\u001b[39m_validate_tuple_indexer(tup)\n",
      "File \u001b[0;32m/opt/homebrew/Caskroom/miniconda/base/envs/ven310/lib/python3.11/site-packages/pandas/core/indexing.py:1000\u001b[0m, in \u001b[0;36m_LocationIndexer._getitem_lowerdim\u001b[0;34m(self, tup)\u001b[0m\n\u001b[1;32m    996\u001b[0m \u001b[38;5;28;01mfor\u001b[39;00m i, key \u001b[38;5;129;01min\u001b[39;00m \u001b[38;5;28menumerate\u001b[39m(tup):\n\u001b[1;32m    997\u001b[0m     \u001b[38;5;28;01mif\u001b[39;00m is_label_like(key):\n\u001b[1;32m    998\u001b[0m         \u001b[38;5;66;03m# We don't need to check for tuples here because those are\u001b[39;00m\n\u001b[1;32m    999\u001b[0m         \u001b[38;5;66;03m#  caught by the _is_nested_tuple_indexer check above.\u001b[39;00m\n\u001b[0;32m-> 1000\u001b[0m         section \u001b[38;5;241m=\u001b[39m \u001b[38;5;28;43mself\u001b[39;49m\u001b[38;5;241;43m.\u001b[39;49m\u001b[43m_getitem_axis\u001b[49m\u001b[43m(\u001b[49m\u001b[43mkey\u001b[49m\u001b[43m,\u001b[49m\u001b[43m \u001b[49m\u001b[43maxis\u001b[49m\u001b[38;5;241;43m=\u001b[39;49m\u001b[43mi\u001b[49m\u001b[43m)\u001b[49m\n\u001b[1;32m   1002\u001b[0m         \u001b[38;5;66;03m# We should never have a scalar section here, because\u001b[39;00m\n\u001b[1;32m   1003\u001b[0m         \u001b[38;5;66;03m#  _getitem_lowerdim is only called after a check for\u001b[39;00m\n\u001b[1;32m   1004\u001b[0m         \u001b[38;5;66;03m#  is_scalar_access, which that would be.\u001b[39;00m\n\u001b[1;32m   1005\u001b[0m         \u001b[38;5;28;01mif\u001b[39;00m section\u001b[38;5;241m.\u001b[39mndim \u001b[38;5;241m==\u001b[39m \u001b[38;5;28mself\u001b[39m\u001b[38;5;241m.\u001b[39mndim:\n\u001b[1;32m   1006\u001b[0m             \u001b[38;5;66;03m# we're in the middle of slicing through a MultiIndex\u001b[39;00m\n\u001b[1;32m   1007\u001b[0m             \u001b[38;5;66;03m# revise the key wrt to `section` by inserting an _NS\u001b[39;00m\n",
      "File \u001b[0;32m/opt/homebrew/Caskroom/miniconda/base/envs/ven310/lib/python3.11/site-packages/pandas/core/indexing.py:1343\u001b[0m, in \u001b[0;36m_LocIndexer._getitem_axis\u001b[0;34m(self, key, axis)\u001b[0m\n\u001b[1;32m   1341\u001b[0m \u001b[38;5;66;03m# fall thru to straight lookup\u001b[39;00m\n\u001b[1;32m   1342\u001b[0m \u001b[38;5;28mself\u001b[39m\u001b[38;5;241m.\u001b[39m_validate_key(key, axis)\n\u001b[0;32m-> 1343\u001b[0m \u001b[38;5;28;01mreturn\u001b[39;00m \u001b[38;5;28;43mself\u001b[39;49m\u001b[38;5;241;43m.\u001b[39;49m\u001b[43m_get_label\u001b[49m\u001b[43m(\u001b[49m\u001b[43mkey\u001b[49m\u001b[43m,\u001b[49m\u001b[43m \u001b[49m\u001b[43maxis\u001b[49m\u001b[38;5;241;43m=\u001b[39;49m\u001b[43maxis\u001b[49m\u001b[43m)\u001b[49m\n",
      "File \u001b[0;32m/opt/homebrew/Caskroom/miniconda/base/envs/ven310/lib/python3.11/site-packages/pandas/core/indexing.py:1293\u001b[0m, in \u001b[0;36m_LocIndexer._get_label\u001b[0;34m(self, label, axis)\u001b[0m\n\u001b[1;32m   1291\u001b[0m \u001b[38;5;28;01mdef\u001b[39;00m \u001b[38;5;21m_get_label\u001b[39m(\u001b[38;5;28mself\u001b[39m, label, axis: AxisInt):\n\u001b[1;32m   1292\u001b[0m     \u001b[38;5;66;03m# GH#5567 this will fail if the label is not present in the axis.\u001b[39;00m\n\u001b[0;32m-> 1293\u001b[0m     \u001b[38;5;28;01mreturn\u001b[39;00m \u001b[38;5;28;43mself\u001b[39;49m\u001b[38;5;241;43m.\u001b[39;49m\u001b[43mobj\u001b[49m\u001b[38;5;241;43m.\u001b[39;49m\u001b[43mxs\u001b[49m\u001b[43m(\u001b[49m\u001b[43mlabel\u001b[49m\u001b[43m,\u001b[49m\u001b[43m \u001b[49m\u001b[43maxis\u001b[49m\u001b[38;5;241;43m=\u001b[39;49m\u001b[43maxis\u001b[49m\u001b[43m)\u001b[49m\n",
      "File \u001b[0;32m/opt/homebrew/Caskroom/miniconda/base/envs/ven310/lib/python3.11/site-packages/pandas/core/generic.py:4095\u001b[0m, in \u001b[0;36mNDFrame.xs\u001b[0;34m(self, key, axis, level, drop_level)\u001b[0m\n\u001b[1;32m   4093\u001b[0m             new_index \u001b[38;5;241m=\u001b[39m index[loc]\n\u001b[1;32m   4094\u001b[0m \u001b[38;5;28;01melse\u001b[39;00m:\n\u001b[0;32m-> 4095\u001b[0m     loc \u001b[38;5;241m=\u001b[39m \u001b[43mindex\u001b[49m\u001b[38;5;241;43m.\u001b[39;49m\u001b[43mget_loc\u001b[49m\u001b[43m(\u001b[49m\u001b[43mkey\u001b[49m\u001b[43m)\u001b[49m\n\u001b[1;32m   4097\u001b[0m     \u001b[38;5;28;01mif\u001b[39;00m \u001b[38;5;28misinstance\u001b[39m(loc, np\u001b[38;5;241m.\u001b[39mndarray):\n\u001b[1;32m   4098\u001b[0m         \u001b[38;5;28;01mif\u001b[39;00m loc\u001b[38;5;241m.\u001b[39mdtype \u001b[38;5;241m==\u001b[39m np\u001b[38;5;241m.\u001b[39mbool_:\n",
      "File \u001b[0;32m/opt/homebrew/Caskroom/miniconda/base/envs/ven310/lib/python3.11/site-packages/pandas/core/indexes/datetimes.py:566\u001b[0m, in \u001b[0;36mDatetimeIndex.get_loc\u001b[0;34m(self, key)\u001b[0m\n\u001b[1;32m    564\u001b[0m             \u001b[38;5;28;01mreturn\u001b[39;00m \u001b[38;5;28mself\u001b[39m\u001b[38;5;241m.\u001b[39m_partial_date_slice(reso, parsed)\n\u001b[1;32m    565\u001b[0m         \u001b[38;5;28;01mexcept\u001b[39;00m \u001b[38;5;167;01mKeyError\u001b[39;00m \u001b[38;5;28;01mas\u001b[39;00m err:\n\u001b[0;32m--> 566\u001b[0m             \u001b[38;5;28;01mraise\u001b[39;00m \u001b[38;5;167;01mKeyError\u001b[39;00m(key) \u001b[38;5;28;01mfrom\u001b[39;00m \u001b[38;5;21;01merr\u001b[39;00m\n\u001b[1;32m    568\u001b[0m     key \u001b[38;5;241m=\u001b[39m parsed\n\u001b[1;32m    570\u001b[0m \u001b[38;5;28;01melif\u001b[39;00m \u001b[38;5;28misinstance\u001b[39m(key, dt\u001b[38;5;241m.\u001b[39mtimedelta):\n\u001b[1;32m    571\u001b[0m     \u001b[38;5;66;03m# GH#20464\u001b[39;00m\n",
      "\u001b[0;31mKeyError\u001b[0m: '2024'"
     ]
    }
   ],
   "source": [
    "financial_metrics = Financial_metrics_calculation(df)\n",
    "# returns = pd.concat([financial_metrics.fund_returns(), financial_metrics.annual_return()], axis=1)\n",
    "# sharpe_ratios = financial_metrics.fund_sharpe().T\n",
    "# max_drawdown = financial_metrics.max_drawdown()\n",
    "# combined_df = pd.concat([returns, sharpe_ratios], axis=1)\n",
    "combined_df['Max Drawdown'] = financial_metrics.max_drawdown()\n",
    "combined_df"
   ]
  },
  {
   "cell_type": "code",
   "execution_count": 174,
   "metadata": {},
   "outputs": [
    {
     "data": {
      "text/html": [
       "<div>\n",
       "<style scoped>\n",
       "    .dataframe tbody tr th:only-of-type {\n",
       "        vertical-align: middle;\n",
       "    }\n",
       "\n",
       "    .dataframe tbody tr th {\n",
       "        vertical-align: top;\n",
       "    }\n",
       "\n",
       "    .dataframe thead th {\n",
       "        text-align: right;\n",
       "    }\n",
       "</style>\n",
       "<table border=\"1\" class=\"dataframe\">\n",
       "  <thead>\n",
       "    <tr style=\"text-align: right;\">\n",
       "      <th></th>\n",
       "      <th>YTD Return</th>\n",
       "      <th>1Y Return</th>\n",
       "      <th>3Y Return</th>\n",
       "      <th>5Y Return</th>\n",
       "      <th>10Y Return</th>\n",
       "      <th>2017 Return</th>\n",
       "      <th>2018 Return</th>\n",
       "      <th>2019 Return</th>\n",
       "      <th>2020 Return</th>\n",
       "      <th>2021 Return</th>\n",
       "      <th>...</th>\n",
       "      <th>2019 Sharpe</th>\n",
       "      <th>2020 Sharpe</th>\n",
       "      <th>2021 Sharpe</th>\n",
       "      <th>2022 Sharpe</th>\n",
       "      <th>2023 Sharpe</th>\n",
       "      <th>2024 Sharpe</th>\n",
       "      <th>Max Drawdown</th>\n",
       "      <th>1</th>\n",
       "      <th>2</th>\n",
       "      <th>3</th>\n",
       "    </tr>\n",
       "  </thead>\n",
       "  <tbody>\n",
       "    <tr>\n",
       "      <th>Last</th>\n",
       "      <td>0.080346</td>\n",
       "      <td>0.107709</td>\n",
       "      <td>-0.044818</td>\n",
       "      <td>-0.022857</td>\n",
       "      <td>NaN</td>\n",
       "      <td>0.029619</td>\n",
       "      <td>-0.124338</td>\n",
       "      <td>0.051482</td>\n",
       "      <td>-0.009645</td>\n",
       "      <td>-0.050033</td>\n",
       "      <td>...</td>\n",
       "      <td>5.240447</td>\n",
       "      <td>-3.889022</td>\n",
       "      <td>-13.87035</td>\n",
       "      <td>-9.833917</td>\n",
       "      <td>-6.828101</td>\n",
       "      <td>12.31985</td>\n",
       "      <td>-0.309904</td>\n",
       "      <td>1</td>\n",
       "      <td>2</td>\n",
       "      <td>3</td>\n",
       "    </tr>\n",
       "  </tbody>\n",
       "</table>\n",
       "<p>1 rows × 30 columns</p>\n",
       "</div>"
      ],
      "text/plain": [
       "      YTD Return  1Y Return  3Y Return  5Y Return  10Y Return  2017 Return  \\\n",
       "Last    0.080346   0.107709  -0.044818  -0.022857         NaN     0.029619   \n",
       "\n",
       "      2018 Return  2019 Return  2020 Return  2021 Return  ...  2019 Sharpe  \\\n",
       "Last    -0.124338     0.051482    -0.009645    -0.050033  ...     5.240447   \n",
       "\n",
       "      2020 Sharpe  2021 Sharpe  2022 Sharpe  2023 Sharpe  2024 Sharpe  \\\n",
       "Last    -3.889022    -13.87035    -9.833917    -6.828101     12.31985   \n",
       "\n",
       "      Max Drawdown  1  2  3  \n",
       "Last     -0.309904  1  2  3  \n",
       "\n",
       "[1 rows x 30 columns]"
      ]
     },
     "execution_count": 174,
     "metadata": {},
     "output_type": "execute_result"
    }
   ],
   "source": [
    "combined_df[['1', '2', '3']] = [1,2,3]\n",
    "combined_df"
   ]
  }
 ],
 "metadata": {
  "kernelspec": {
   "display_name": "Python 3 (ipykernel)",
   "language": "python",
   "name": "python3"
  },
  "language_info": {
   "codemirror_mode": {
    "name": "ipython",
    "version": 3
   },
   "file_extension": ".py",
   "mimetype": "text/x-python",
   "name": "python",
   "nbconvert_exporter": "python",
   "pygments_lexer": "ipython3",
   "version": "3.11.4"
  }
 },
 "nbformat": 4,
 "nbformat_minor": 4
}
